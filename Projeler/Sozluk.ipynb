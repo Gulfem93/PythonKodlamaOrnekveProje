{
 "cells": [
  {
   "cell_type": "code",
   "execution_count": 31,
   "metadata": {},
   "outputs": [
    {
     "name": "stdout",
     "output_type": "stream",
     "text": [
      "BOOK: (isim) Kitap         (fiil) Rezerve Etmek         \n",
      "THIS: ( zamir  ) Bu, Şu\n",
      "A   : (belirteç) Bir\n",
      "IS  : (  fiil  ) Olmak\n",
      "\n",
      "Kullanıcı çıkışı.\n"
     ]
    }
   ],
   "source": [
    "dictionary = {\n",
    "    \"this\": [(\"zamir\", \"Bu, Şu\")],\n",
    "    \"is\": [(\"fiil\", \"Olmak\")],\n",
    "    \"a\": [(\"belirteç\", \"Bir\")],\n",
    "    \"book\": [(\"isim\",\"Kitap\"), (\"fiil\", \"Rezerve Etmek\")],\n",
    "    \"pen\": [(\"isim\",\"Kalem\")]\n",
    "}\n",
    "\n",
    "while True:\n",
    "    sentence = input(\"Bir cümle giriniz: \")\n",
    "    \n",
    "    if sentence == \"\":\n",
    "        break\n",
    "\n",
    "    for signCharacter in \"().,!?=:/*-\":\n",
    "        sentence = sentence.replace(signCharacter, \"\")\n",
    "\n",
    "    words = set(sentence.lower().split())\n",
    "\n",
    "    wordMaxLength = 1\n",
    "\n",
    "    for word in words:\n",
    "        if wordMaxLength < len(word):\n",
    "            wordMaxLength = len(word)\n",
    "    \n",
    "    for word in words:\n",
    "\n",
    "        wordsDefinitions = dictionary.get(word, \"[Anlami Bulunamadi ]\")\n",
    "\n",
    "        if len(wordsDefinitions) == 1:\n",
    "            print(f'{word.upper():<{wordMaxLength}}: ({wordsDefinitions[0][0]:^8}) {wordsDefinitions[0][1]}')\n",
    "\n",
    "        elif len(wordsDefinitions) > 1:\n",
    "            print(f'{word.upper():<{wordMaxLength}}: ', end = \"\")\n",
    "\n",
    "            for wordsDefinition in wordsDefinitions:\n",
    "                print(f\"({wordsDefinition[0]}) {wordsDefinition[1]}         \", end = \"\")\n",
    "\n",
    "            print()\n",
    "    \n",
    "    print()\n",
    "\n",
    "print(\"Kullanıcı çıkışı.\")\n"
   ]
  }
 ],
 "metadata": {
  "interpreter": {
   "hash": "8b03d4cd05d71d535371b426da57de743181e37d8974a9636efe6e78873daaed"
  },
  "kernelspec": {
   "display_name": "Python 3.9.6 64-bit",
   "language": "python",
   "name": "python3"
  },
  "language_info": {
   "codemirror_mode": {
    "name": "ipython",
    "version": 3
   },
   "file_extension": ".py",
   "mimetype": "text/x-python",
   "name": "python",
   "nbconvert_exporter": "python",
   "pygments_lexer": "ipython3",
   "version": "3.9.6"
  },
  "orig_nbformat": 4
 },
 "nbformat": 4,
 "nbformat_minor": 2
}
