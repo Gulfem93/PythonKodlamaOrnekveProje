{
 "cells": [
  {
   "cell_type": "markdown",
   "metadata": {},
   "source": [
    "Tc kimlik numarası yazıp doğrulanmasını istiyoruz.\n",
    "\n",
    "* Tc numarasını doğrulamak için 1, 3, 5, 7, 9. hanelerinrakamları toplamı 7 ile çarpımından çıkan sonucu 2, 4, 6, 8 hanelerin rakamların toplamından çıkartıldığında geriye kalanın 10 a böldüğümüzde kalanı 10. haneyi verir.\n",
    "* Birinci haneden onuncu haneye kadar olan tüm rakamlarının toplamı 10 a böldüğümüzde kalanı 11. rekamı verir.\n",
    "```\n",
    "\n",
    "```"
   ]
  },
  {
   "cell_type": "code",
   "execution_count": 36,
   "metadata": {},
   "outputs": [],
   "source": [
    "def TcDogrulama(tc):\n",
    "    TekHanedekilerinToplami = 0\n",
    "    CiftHanedekilerinToplami = 0\n",
    "    BirdenOnaRakamlariToplamlari = 0\n",
    "\n",
    "    for hane in range(len(str(tc))-2):\n",
    "        if hane % 2 == 0:\n",
    "            TekHanedekilerinToplami += int(str(tc)[hane])\n",
    "        else:\n",
    "            CiftHanedekilerinToplami += int(str(tc)[hane])\n",
    "\n",
    "    Kontrol = (TekHanedekilerinToplami*7 - CiftHanedekilerinToplami)%10\n",
    "    TersTc = str(tc)[::-1]\n",
    "    \n",
    "    for hane in range(len(str(tc))-1):\n",
    "        BirdenOnaRakamlariToplamlari += int(str(tc)[hane])\n",
    "    \n",
    "    sonBasamak = int(BirdenOnaRakamlariToplamlari % 10)\n",
    "\n",
    "    if (int(TersTc[1]) == Kontrol) and sonBasamak == int(TersTc[0]):\n",
    "        return \"Tc Dogru\"\n",
    "    return \"Tc yanlıs\""
   ]
  },
  {
   "cell_type": "code",
   "execution_count": 37,
   "metadata": {},
   "outputs": [
    {
     "data": {
      "text/plain": [
       "'Tc yanlıs'"
      ]
     },
     "execution_count": 37,
     "metadata": {},
     "output_type": "execute_result"
    }
   ],
   "source": [
    "tc = 567124975\n",
    "TcDogrulama(tc)"
   ]
  }
 ],
 "metadata": {
  "interpreter": {
   "hash": "8b03d4cd05d71d535371b426da57de743181e37d8974a9636efe6e78873daaed"
  },
  "kernelspec": {
   "display_name": "Python 3.9.6 64-bit",
   "language": "python",
   "name": "python3"
  },
  "language_info": {
   "codemirror_mode": {
    "name": "ipython",
    "version": 3
   },
   "file_extension": ".py",
   "mimetype": "text/x-python",
   "name": "python",
   "nbconvert_exporter": "python",
   "pygments_lexer": "ipython3",
   "version": "3.9.6"
  },
  "orig_nbformat": 4
 },
 "nbformat": 4,
 "nbformat_minor": 2
}
