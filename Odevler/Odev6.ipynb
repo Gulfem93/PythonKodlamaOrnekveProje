{
 "cells": [
  {
   "cell_type": "markdown",
   "metadata": {},
   "source": [
    "Program kullanıcıdan ismini ve soyismini ayrı ayrı alsın\n",
    "\n",
    "Eğer isim ve soyisim uzunluğu 3 den kısa veya 15 den uzun ise hata mesajı alsın\n",
    "\n",
    "Aksi taktirde terminale kullanıcının ismini belirterek Hello desin\n",
    "```\n",
    "EX:\n",
    "isim: Ezgi\n",
    "Soyisim: Altıparmak\n",
    "Terminalde => Hi Ezgi Altıparmak\n",
    "```"
   ]
  },
  {
   "cell_type": "code",
   "execution_count": 3,
   "metadata": {},
   "outputs": [
    {
     "name": "stdout",
     "output_type": "stream",
     "text": [
      "Isim ve soyisim uzunluğu 3 den uzun 15 den kısa olmalı\n"
     ]
    }
   ],
   "source": [
    "Isim = input(\"Isim: \")\n",
    "Soyisim = input(\"Soyisim: \")\n",
    "\n",
    "if (len(Isim) + len(Soyisim)) < 3 or (len(Isim) + len(Soyisim)) > 15:\n",
    "    print(\"Isim ve soyisim uzunluğu 3 den uzun 15 den kısa olmalı\")\n",
    "else:\n",
    "    print(f\"Hi {Isim} {Soyisim}\")"
   ]
  }
 ],
 "metadata": {
  "interpreter": {
   "hash": "8b03d4cd05d71d535371b426da57de743181e37d8974a9636efe6e78873daaed"
  },
  "kernelspec": {
   "display_name": "Python 3.9.6 64-bit",
   "language": "python",
   "name": "python3"
  },
  "language_info": {
   "codemirror_mode": {
    "name": "ipython",
    "version": 3
   },
   "file_extension": ".py",
   "mimetype": "text/x-python",
   "name": "python",
   "nbconvert_exporter": "python",
   "pygments_lexer": "ipython3",
   "version": "3.9.6"
  },
  "orig_nbformat": 4
 },
 "nbformat": 4,
 "nbformat_minor": 2
}
