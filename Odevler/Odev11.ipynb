{
 "cells": [
  {
   "cell_type": "markdown",
   "metadata": {},
   "source": [
    "Program 2020 yılından başlayarak 1900 yılına kadar olan artık yılları listelesin.\n",
    "\n",
    "* Artık yıllar 4'e tam bölünen yıllardır.\n",
    "* Ancak 100'e tam bölünen yılların artık yıl olabilmesi için ek olarak 400'e tam bölünmesi gerekir.\n",
    "\n",
    "EX: 2000 yılı artık yıldır."
   ]
  },
  {
   "cell_type": "code",
   "execution_count": 38,
   "metadata": {},
   "outputs": [],
   "source": [
    "def ArtikYil(yil):\n",
    "    if yil < 2020 and yil > 1900:\n",
    "        if yil % 4 == 0:\n",
    "            if yil % 100 == 0:\n",
    "                if yil % 400 == 0:\n",
    "                    return \"Artik yildir.\"\n",
    "                return \"Artik yil değildir.\"\n",
    "            else:\n",
    "                return \"Artik yildir.\"\n",
    "        else:\n",
    "            return \"Artik yil değildir.\"\n",
    "    else:\n",
    "        return \"Yil 2020 ile 1900 arasinda olmali\""
   ]
  },
  {
   "cell_type": "code",
   "execution_count": 39,
   "metadata": {},
   "outputs": [
    {
     "data": {
      "text/plain": [
       "'Artik yil değildir.'"
      ]
     },
     "execution_count": 39,
     "metadata": {},
     "output_type": "execute_result"
    }
   ],
   "source": [
    "ArtikYil(1947)"
   ]
  }
 ],
 "metadata": {
  "interpreter": {
   "hash": "8b03d4cd05d71d535371b426da57de743181e37d8974a9636efe6e78873daaed"
  },
  "kernelspec": {
   "display_name": "Python 3.9.6 64-bit",
   "language": "python",
   "name": "python3"
  },
  "language_info": {
   "codemirror_mode": {
    "name": "ipython",
    "version": 3
   },
   "file_extension": ".py",
   "mimetype": "text/x-python",
   "name": "python",
   "nbconvert_exporter": "python",
   "pygments_lexer": "ipython3",
   "version": "3.9.6"
  },
  "orig_nbformat": 4
 },
 "nbformat": 4,
 "nbformat_minor": 2
}
