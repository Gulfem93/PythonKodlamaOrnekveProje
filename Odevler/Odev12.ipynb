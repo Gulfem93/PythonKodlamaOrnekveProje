{
 "cells": [
  {
   "cell_type": "markdown",
   "metadata": {},
   "source": [
    "Kullanıcıdan 10 adet sayı girilsin. Bu sayilar arasında mükerrer (Tekrar eden) varsa silinsin."
   ]
  },
  {
   "cell_type": "code",
   "execution_count": 88,
   "metadata": {},
   "outputs": [
    {
     "name": "stdout",
     "output_type": "stream",
     "text": [
      "[5, 4, 8, 9, 7, 33, 1, 3, 8, 9]\n",
      "[5, 4, 8, 9, 7, 33, 1, 3]\n"
     ]
    }
   ],
   "source": [
    "numbers = []\n",
    "news_numbers = []\n",
    "index = 0\n",
    "\n",
    "while index < 10:\n",
    "    num = int(input(\"numbers: \"))\n",
    "    if index == 0:\n",
    "        numbers.append(num)\n",
    "        news_numbers.append(num)\n",
    "    else:\n",
    "        if num not in numbers:\n",
    "            news_numbers.append(num)\n",
    "        numbers.append(num)\n",
    "    index += 1\n",
    "print(numbers)\n",
    "print(news_numbers)"
   ]
  }
 ],
 "metadata": {
  "interpreter": {
   "hash": "8b03d4cd05d71d535371b426da57de743181e37d8974a9636efe6e78873daaed"
  },
  "kernelspec": {
   "display_name": "Python 3.9.6 64-bit",
   "language": "python",
   "name": "python3"
  },
  "language_info": {
   "codemirror_mode": {
    "name": "ipython",
    "version": 3
   },
   "file_extension": ".py",
   "mimetype": "text/x-python",
   "name": "python",
   "nbconvert_exporter": "python",
   "pygments_lexer": "ipython3",
   "version": "3.9.6"
  },
  "orig_nbformat": 4
 },
 "nbformat": 4,
 "nbformat_minor": 2
}
