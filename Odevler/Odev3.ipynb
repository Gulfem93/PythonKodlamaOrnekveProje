{
 "cells": [
  {
   "cell_type": "markdown",
   "metadata": {},
   "source": [
    "```\n",
    "Program kullanıcıdan bir string alsın. Bu string kullanarak yeni bir string oluştursun\n",
    "Bu Stringin ilk 3 karakteri ile son 3 karakterinden oluşsun.\n",
    "Tüm karakterler büyük harflerden oluşacak şekilde sonuç versin.\n",
    "Son olarak yazdığın program oluşan bu stringi terminale yazdırsın.\n",
    "\n",
    "OR: \"Ertuğrul\" dan \"RULERT\",\n",
    "    \"At\" dan \"ATAT\"\n",
    "```"
   ]
  },
  {
   "cell_type": "code",
   "execution_count": 12,
   "metadata": {},
   "outputs": [],
   "source": [
    "userString = input(\"Enter string:\")\n",
    "userString = userString[-3:] + userString[0:3]\n",
    "userString = userString.upper()\n"
   ]
  },
  {
   "cell_type": "code",
   "execution_count": 13,
   "metadata": {},
   "outputs": [
    {
     "data": {
      "text/plain": [
       "'RULERT'"
      ]
     },
     "execution_count": 13,
     "metadata": {},
     "output_type": "execute_result"
    }
   ],
   "source": [
    "userString"
   ]
  }
 ],
 "metadata": {
  "interpreter": {
   "hash": "8b03d4cd05d71d535371b426da57de743181e37d8974a9636efe6e78873daaed"
  },
  "kernelspec": {
   "display_name": "Python 3.9.6 64-bit",
   "language": "python",
   "name": "python3"
  },
  "language_info": {
   "codemirror_mode": {
    "name": "ipython",
    "version": 3
   },
   "file_extension": ".py",
   "mimetype": "text/x-python",
   "name": "python",
   "nbconvert_exporter": "python",
   "pygments_lexer": "ipython3",
   "version": "3.9.6"
  },
  "orig_nbformat": 4
 },
 "nbformat": 4,
 "nbformat_minor": 2
}
