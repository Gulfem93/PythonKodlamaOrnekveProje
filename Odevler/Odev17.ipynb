{
 "cells": [
  {
   "cell_type": "markdown",
   "metadata": {},
   "source": [
    "Kullanıcı ismini girdiği metin dosyasının satır sayısı, kelime sayısı, en uzun kelimenin uzunluğu bulunsun."
   ]
  },
  {
   "cell_type": "code",
   "execution_count": 20,
   "metadata": {},
   "outputs": [
    {
     "name": "stdout",
     "output_type": "stream",
     "text": [
      "Maksimum kelimem: Benim, uzunlugu: 5\n"
     ]
    }
   ],
   "source": [
    "with open(\"Odev17_KullaniciIsimleri\", \"a+\", encoding = \"utf-8\") as kullaniciIsimleri:\n",
    "    while True:    \n",
    "        kullaniciIsmi = input(\"Kullanici ismi giriniz:\")\n",
    "\n",
    "        if kullaniciIsmi == \"\":\n",
    "            break\n",
    "\n",
    "        kullaniciIsimleri.write(kullaniciIsmi + \"\\n\")\n",
    "\n",
    "with open(\"Odev17_KullaniciIsimleri\", \"r\", encoding = \"utf-8\") as kullaniciIsimleri:\n",
    "    text = \"\"\n",
    "\n",
    "    for lineText in kullaniciIsimleri.readlines():\n",
    "        #print(lineText, end = \"\")\n",
    "        text += lineText\n",
    "    \n",
    "    text = text.split()\n",
    "    \n",
    "    wordMaxLength = 1\n",
    "    \n",
    "    for word in text:\n",
    "        if wordMaxLength < len(word):\n",
    "            wordMaxLength = len(word)\n",
    "            \n",
    "for textWord in text:\n",
    "    if wordMaxLength == len(textWord): \n",
    "        print(f\"Maksimum kelimem: {textWord}, uzunlugu: {wordMaxLength}\")\n"
   ]
  },
  {
   "cell_type": "code",
   "execution_count": null,
   "metadata": {},
   "outputs": [],
   "source": []
  }
 ],
 "metadata": {
  "interpreter": {
   "hash": "8b03d4cd05d71d535371b426da57de743181e37d8974a9636efe6e78873daaed"
  },
  "kernelspec": {
   "display_name": "Python 3.9.6 64-bit",
   "language": "python",
   "name": "python3"
  },
  "language_info": {
   "codemirror_mode": {
    "name": "ipython",
    "version": 3
   },
   "file_extension": ".py",
   "mimetype": "text/x-python",
   "name": "python",
   "nbconvert_exporter": "python",
   "pygments_lexer": "ipython3",
   "version": "3.9.6"
  },
  "orig_nbformat": 4
 },
 "nbformat": 4,
 "nbformat_minor": 2
}
