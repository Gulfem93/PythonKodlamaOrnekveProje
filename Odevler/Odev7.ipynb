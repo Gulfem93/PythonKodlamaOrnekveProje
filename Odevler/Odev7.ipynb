{
 "cells": [
  {
   "cell_type": "markdown",
   "metadata": {},
   "source": [
    "Program kullanıcıdan ismini alsın \n",
    "\n",
    "Eger ismin uzunluğu 3 den kısa ve 15 den uzun ise terminale hata mesajı yazdırsın. Tekrar kullacıdan ismini istesin.\n",
    "\n",
    "Bu islemi geçerli isim yapana kadar yada kullanıcı \"quit\" kelimesi yazana kadar devam etsin.\n",
    "\n",
    "Kullanıcı doğru ismi girdiğinde program kullanıcının ismini belirterek ona merhaba desin, \n",
    "\n",
    "```\n",
    "EX:\n",
    "İsim: Ahmet girdiyse terminalde mesajı Hi Ahmet olsun\n",
    "```"
   ]
  },
  {
   "cell_type": "code",
   "execution_count": 18,
   "metadata": {},
   "outputs": [
    {
     "name": "stdout",
     "output_type": "stream",
     "text": [
      "Name not must be min 3 character\n",
      "Name not must be min 3 character\n",
      "Name not must be min 3 character\n",
      "Name not must be min 3 character\n",
      "Name not must be min 3 character\n",
      "Hi dgulfem\n"
     ]
    }
   ],
   "source": [
    "while True:\n",
    "    name = input(\"name: \")\n",
    "    if name.lower() == \"quit\":\n",
    "        print(\"Exit by user\")\n",
    "        break\n",
    "\n",
    "    elif len(name) < 3:\n",
    "        print(\"Name not must be min 3 character\")\n",
    "    \n",
    "    elif len(name) > 15:\n",
    "        print(\"Name not must be max 15 character\")\n",
    "    \n",
    "    else:\n",
    "        print(f\"Hi {name}\")\n",
    "        break"
   ]
  }
 ],
 "metadata": {
  "interpreter": {
   "hash": "8b03d4cd05d71d535371b426da57de743181e37d8974a9636efe6e78873daaed"
  },
  "kernelspec": {
   "display_name": "Python 3.9.6 64-bit",
   "language": "python",
   "name": "python3"
  },
  "language_info": {
   "codemirror_mode": {
    "name": "ipython",
    "version": 3
   },
   "file_extension": ".py",
   "mimetype": "text/x-python",
   "name": "python",
   "nbconvert_exporter": "python",
   "pygments_lexer": "ipython3",
   "version": "3.9.6"
  },
  "orig_nbformat": 4
 },
 "nbformat": 4,
 "nbformat_minor": 2
}
