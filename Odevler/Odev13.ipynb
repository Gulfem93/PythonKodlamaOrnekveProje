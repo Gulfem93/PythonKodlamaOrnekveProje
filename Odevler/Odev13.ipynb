{
 "cells": [
  {
   "cell_type": "markdown",
   "metadata": {},
   "source": [
    "* Kullanıcıdan en az 5 farklı isim girmesini istiyorum.\n",
    "* Eger girdiği isim daha önce girilmisse hata versin\n",
    "* Girilmemişse listeye eklensin\n",
    "* Program sonucu oluşan listeyi terminale bastırsın"
   ]
  },
  {
   "cell_type": "code",
   "execution_count": 5,
   "metadata": {},
   "outputs": [
    {
     "name": "stdout",
     "output_type": "stream",
     "text": [
      "irem birden fazla yazılmıştır. Tekrar deneyin\n",
      "['irem', 'gulfem']\n"
     ]
    }
   ],
   "source": [
    "names = []\n",
    "new_names = []\n",
    "\n",
    "index = 0\n",
    "while index < 5:\n",
    "    name = input(\"Name: \")\n",
    "    if index == 0:\n",
    "        names.append(name)\n",
    "        new_names.append(name)\n",
    "    else:\n",
    "        if name in names:\n",
    "            print(f\"{name} birden fazla yazılmıştır. Tekrar deneyin\")\n",
    "            break\n",
    "        elif name not in names:\n",
    "            new_names.append(name)\n",
    "        names.append(name)\n",
    "    index += 1\n",
    "\n",
    "print(new_names)\n"
   ]
  }
 ],
 "metadata": {
  "interpreter": {
   "hash": "8b03d4cd05d71d535371b426da57de743181e37d8974a9636efe6e78873daaed"
  },
  "kernelspec": {
   "display_name": "Python 3.9.6 64-bit",
   "language": "python",
   "name": "python3"
  },
  "language_info": {
   "codemirror_mode": {
    "name": "ipython",
    "version": 3
   },
   "file_extension": ".py",
   "mimetype": "text/x-python",
   "name": "python",
   "nbconvert_exporter": "python",
   "pygments_lexer": "ipython3",
   "version": "3.9.6"
  },
  "orig_nbformat": 4
 },
 "nbformat": 4,
 "nbformat_minor": 2
}
