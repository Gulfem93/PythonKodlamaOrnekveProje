{
 "cells": [
  {
   "cell_type": "markdown",
   "metadata": {},
   "source": [
    "İkinci dereceden denklemin köklerini hesaplayan program:\n",
    "\n",
    "ax^2 + bx + c = 0\n",
    "\n",
    "\n",
    "a, b, c degerlerini alsın ve reel köklerini hesaplasın"
   ]
  },
  {
   "cell_type": "code",
   "execution_count": 7,
   "metadata": {},
   "outputs": [
    {
     "name": "stdout",
     "output_type": "stream",
     "text": [
      "2x^2 + 6x + -20 denklemin kökleri: 2.0 -5.0 'dir\n"
     ]
    }
   ],
   "source": [
    "import math\n",
    "\n",
    "a = int(input(\"a: \"))\n",
    "b = int(input(\"b: \"))\n",
    "c = int(input(\"c: \"))\n",
    "\n",
    "x1 = (-b + math.sqrt((b*b) - (4*a*c)))/(2*a)\n",
    "x2 = (-b - math.sqrt((b*b) - (4*a*c)))/(2*a)\n",
    "\n",
    "print(f\"{a}x^2 + {b}x + {c} denklemin kökleri: {x1} {x2} 'dir\")"
   ]
  },
  {
   "cell_type": "code",
   "execution_count": 8,
   "metadata": {},
   "outputs": [
    {
     "data": {
      "text/plain": [
       "14.0"
      ]
     },
     "execution_count": 8,
     "metadata": {},
     "output_type": "execute_result"
    }
   ],
   "source": [
    "math.sqrt((b*b) - (4*a*c))"
   ]
  }
 ],
 "metadata": {
  "interpreter": {
   "hash": "8b03d4cd05d71d535371b426da57de743181e37d8974a9636efe6e78873daaed"
  },
  "kernelspec": {
   "display_name": "Python 3.9.6 64-bit",
   "language": "python",
   "name": "python3"
  },
  "language_info": {
   "codemirror_mode": {
    "name": "ipython",
    "version": 3
   },
   "file_extension": ".py",
   "mimetype": "text/x-python",
   "name": "python",
   "nbconvert_exporter": "python",
   "pygments_lexer": "ipython3",
   "version": "3.9.6"
  },
  "orig_nbformat": 4
 },
 "nbformat": 4,
 "nbformat_minor": 2
}
