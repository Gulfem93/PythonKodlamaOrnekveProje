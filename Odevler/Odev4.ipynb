{
 "cells": [
  {
   "cell_type": "markdown",
   "metadata": {},
   "source": [
    "Programın kullanıcıdan bir silindirin yüksekliğini ve yarıçapı alsın ve hacmini hesaplasın.\n",
    "```\n",
    "EX:\n",
    "Silindirin yüksekliği: 4cm\n",
    "Yarıçapı: 6cm\n",
    "Silindirin Hacmi: 452cm\n",
    "```"
   ]
  },
  {
   "cell_type": "code",
   "execution_count": 4,
   "metadata": {},
   "outputs": [
    {
     "name": "stdout",
     "output_type": "stream",
     "text": [
      "Silindirin Hacmi: 452\n"
     ]
    }
   ],
   "source": [
    "import math\n",
    "\n",
    "yaricap = int(input(\"silindirin yaricapi: \"))\n",
    "yukseklik = int(input(\"silindirin yuksekligi: \"))\n",
    "\n",
    "print(f\"Silindirin Hacmi: {int(yaricap * yaricap * yukseklik * math.pi)}\")"
   ]
  }
 ],
 "metadata": {
  "interpreter": {
   "hash": "8b03d4cd05d71d535371b426da57de743181e37d8974a9636efe6e78873daaed"
  },
  "kernelspec": {
   "display_name": "Python 3.9.6 64-bit",
   "language": "python",
   "name": "python3"
  },
  "language_info": {
   "codemirror_mode": {
    "name": "ipython",
    "version": 3
   },
   "file_extension": ".py",
   "mimetype": "text/x-python",
   "name": "python",
   "nbconvert_exporter": "python",
   "pygments_lexer": "ipython3",
   "version": "3.9.6"
  },
  "orig_nbformat": 4
 },
 "nbformat": 4,
 "nbformat_minor": 2
}
