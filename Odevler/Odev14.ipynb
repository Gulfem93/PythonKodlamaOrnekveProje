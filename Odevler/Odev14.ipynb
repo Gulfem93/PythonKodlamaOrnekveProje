{
 "cells": [
  {
   "cell_type": "markdown",
   "metadata": {},
   "source": [
    "Itemları tuple olan listenin \n",
    "```\n",
    "EX:[(11, 22), (33, 55), (55, 11), (11, 44)]\n",
    "itemlerin herbiri 11 olanları bulup liste olarak tereminale bastirsin.\n",
    "=> [(11, 22), (55, 11), (11, 44)]\n",
    "```"
   ]
  },
  {
   "cell_type": "code",
   "execution_count": 10,
   "metadata": {},
   "outputs": [
    {
     "name": "stdout",
     "output_type": "stream",
     "text": [
      "[(11, 22), (55, 11), (11, 44)]\n"
     ]
    }
   ],
   "source": [
    "listem = [(11, 22), (33, 55), (55, 11), (11, 44)]\n",
    "newListem = [item for item in listem if 11 in item]\n",
    "\n",
    "print(newListem)"
   ]
  }
 ],
 "metadata": {
  "interpreter": {
   "hash": "8b03d4cd05d71d535371b426da57de743181e37d8974a9636efe6e78873daaed"
  },
  "kernelspec": {
   "display_name": "Python 3.9.6 64-bit",
   "language": "python",
   "name": "python3"
  },
  "language_info": {
   "codemirror_mode": {
    "name": "ipython",
    "version": 3
   },
   "file_extension": ".py",
   "mimetype": "text/x-python",
   "name": "python",
   "nbconvert_exporter": "python",
   "pygments_lexer": "ipython3",
   "version": "3.9.6"
  },
  "orig_nbformat": 4
 },
 "nbformat": 4,
 "nbformat_minor": 2
}
