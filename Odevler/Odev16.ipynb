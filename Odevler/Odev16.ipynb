{
 "cells": [
  {
   "cell_type": "markdown",
   "metadata": {},
   "source": [
    "Program kullanıcının girdiği cümlede bulunan yasaklı kelimelerin yerine nokta işareti koyarak terminale yazdırsın.\n",
    "\n",
    "EX:\n",
    "amk, aq vs gibi kelimeler yasaklı"
   ]
  },
  {
   "cell_type": "code",
   "execution_count": 19,
   "metadata": {},
   "outputs": [
    {
     "name": "stdout",
     "output_type": "stream",
     "text": [
      "ben senn *\n"
     ]
    }
   ],
   "source": [
    "YasakliKelimeler = dict(amk= \"*\", aq= \"*\", salak= \"*\", aptal= \"*\", serefsiz= \"*\")\n",
    "cumle = input(\"Bir cümle giriniz: \")\n",
    "new = \"\"\n",
    "cumleSplit = cumle.split()\n",
    "\n",
    "for key in YasakliKelimeler.keys():\n",
    "    cumle = cumle.lower()\n",
    "    cumle = cumle.replace(key, YasakliKelimeler[key])\n",
    "    \n",
    "\n",
    "print(cumle)"
   ]
  }
 ],
 "metadata": {
  "interpreter": {
   "hash": "8b03d4cd05d71d535371b426da57de743181e37d8974a9636efe6e78873daaed"
  },
  "kernelspec": {
   "display_name": "Python 3.9.6 64-bit",
   "language": "python",
   "name": "python3"
  },
  "language_info": {
   "codemirror_mode": {
    "name": "ipython",
    "version": 3
   },
   "file_extension": ".py",
   "mimetype": "text/x-python",
   "name": "python",
   "nbconvert_exporter": "python",
   "pygments_lexer": "ipython3",
   "version": "3.9.6"
  },
  "orig_nbformat": 4
 },
 "nbformat": 4,
 "nbformat_minor": 2
}
