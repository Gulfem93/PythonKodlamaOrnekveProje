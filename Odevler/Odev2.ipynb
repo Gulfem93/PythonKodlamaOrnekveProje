{
 "cells": [
  {
   "cell_type": "markdown",
   "metadata": {},
   "source": [
    "```\n",
    "Dairenin yarıçapını isteyin ardından çevresini hesaplayın\n",
    "```"
   ]
  },
  {
   "cell_type": "code",
   "execution_count": null,
   "metadata": {},
   "outputs": [],
   "source": [
    "yaricapi = float(input(\"yaricapi: \"))\n",
    "print(f\"circumference of circle with radius {yaricapi} :{2 * 3.14 * yaricapi}\")"
   ]
  }
 ],
 "metadata": {
  "language_info": {
   "name": "python"
  },
  "orig_nbformat": 4
 },
 "nbformat": 4,
 "nbformat_minor": 2
}
